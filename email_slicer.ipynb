{
  "nbformat": 4,
  "nbformat_minor": 0,
  "metadata": {
    "colab": {
      "name": "email slicer.ipynb",
      "provenance": [],
      "toc_visible": true,
      "authorship_tag": "ABX9TyM/U7Xun4n6M6iUVQfDSko/",
      "include_colab_link": true
    },
    "kernelspec": {
      "name": "python3",
      "display_name": "Python 3"
    },
    "language_info": {
      "name": "python"
    }
  },
  "cells": [
    {
      "cell_type": "markdown",
      "metadata": {
        "id": "view-in-github",
        "colab_type": "text"
      },
      "source": [
        "<a href=\"https://colab.research.google.com/github/BartViews/email-slicer-v1-v2/blob/main/email_slicer.ipynb\" target=\"_parent\"><img src=\"https://colab.research.google.com/assets/colab-badge.svg\" alt=\"Open In Colab\"/></a>"
      ]
    },
    {
      "cell_type": "markdown",
      "metadata": {
        "id": "s1AS93Sh67-u"
      },
      "source": [
        "# Email slicer 1"
      ]
    },
    {
      "cell_type": "code",
      "metadata": {
        "colab": {
          "base_uri": "https://localhost:8080/"
        },
        "id": "DgcGFdDi5eGQ",
        "outputId": "f38295e9-b1f3-455e-f06a-7382f13cdb03"
      },
      "source": [
        "email = input('Enter your email address:').strip() #strip removes unwanted spaces on beggining and end\n",
        "username = email[:email.index('@')]\n",
        "domain = email[email.index('@')+1:]\n",
        "\n",
        "print(f'Your username is: {username}') #f stands for f-string enabling variable input into in output\n",
        "print(f'Your domain is: {domain}')\n"
      ],
      "execution_count": 8,
      "outputs": [
        {
          "output_type": "stream",
          "text": [
            "Enter your email address:bartviews@gmail.com\n",
            "Your username is: bartviews\n",
            "Your domain is: gmail.com\n"
          ],
          "name": "stdout"
        }
      ]
    },
    {
      "cell_type": "markdown",
      "metadata": {
        "id": "Xej6OjpWDfFD"
      },
      "source": [
        "# Email slicer 2"
      ]
    },
    {
      "cell_type": "code",
      "metadata": {
        "colab": {
          "base_uri": "https://localhost:8080/"
        },
        "id": "UVkRlf4SDl9U",
        "outputId": "b632dbbf-0dd0-4cb4-ae92-b925e83e9462"
      },
      "source": [
        "username, _, domain = input(\"Enter Your Email: \").strip().partition(\"@\")\n",
        "print(f'Your username is: {username}')\n",
        "print(f'Your domain is: {domain}')"
      ],
      "execution_count": 9,
      "outputs": [
        {
          "output_type": "stream",
          "text": [
            "Enter Your Email: bartviews@gmail.com\n",
            "Your username is: bartviews\n",
            "Your domain is: gmail.com\n"
          ],
          "name": "stdout"
        }
      ]
    }
  ]
}